{
 "cells": [
  {
   "cell_type": "markdown",
   "metadata": {},
   "source": [
    "## Trajectory Optimization with Differentiable Physics"
   ]
  },
  {
   "cell_type": "markdown",
   "metadata": {},
   "source": [
    "### Imports"
   ]
  },
  {
   "cell_type": "code",
   "execution_count": 1,
   "metadata": {},
   "outputs": [
    {
     "name": "stdout",
     "output_type": "stream",
     "text": [
      "Warp 1.0.2 initialized:\n",
      "   CUDA Toolkit 11.5, Driver 11.4\n",
      "   Devices:\n",
      "     \"cpu\"      : \"x86_64\"\n",
      "     \"cuda:0\"   : \"NVIDIA GeForce GTX 1050 Ti with Max-Q Design\" (4 GiB, sm_61, mempool enabled)\n",
      "   Kernel cache:\n",
      "     /home/jonathan/.cache/warp/1.0.2\n",
      "Mitsuba 3 Variant: llvm_ad_rgb\n"
     ]
    }
   ],
   "source": [
    "# project\n",
    "import os\n",
    "import sys \n",
    "project_dir = os.path.join(os.path.expanduser('~'), 'git', 'diffsim-sysid')\n",
    "sys.path.insert(1, project_dir)\n",
    "# math\n",
    "import numpy as np\n",
    "# optim\n",
    "import torch\n",
    "# physics\n",
    "import warp as wp\n",
    "import warp.sim as wps\n",
    "import warp.sim.render as wpr\n",
    "# graphics\n",
    "from copy import deepcopy\n",
    "import mitsuba as mi\n",
    "from mitsuba.scalar_rgb import Transform4f as mit\n",
    "# plots\n",
    "import matplotlib as mpl\n",
    "from matplotlib import pyplot as plt\n",
    "from src.plot import set_fig_size, set_mpl_format\n",
    "\n",
    "# setup\n",
    "set_mpl_format()\n",
    "wp.init()\n",
    "mi.set_variant('llvm_ad_rgb')\n",
    "print(f'Mitsuba 3 Variant: {mi.variant()}')"
   ]
  },
  {
   "cell_type": "markdown",
   "metadata": {},
   "source": [
    "### Scene"
   ]
  },
  {
   "cell_type": "code",
   "execution_count": 2,
   "metadata": {},
   "outputs": [],
   "source": [
    "# camera positioned to view the scene, adjust as needed\n",
    "cam_pos = np.array([0.0, 1.0, 5.0])  \n",
    "cam_target = np.array([0.0, 1.0, 0.0])\n",
    "cam_up = np.array([0.0, 1.0, 0.0])\n",
    "\n",
    "# sphere\n",
    "sphere_init_pos = np.array([-0.5, 1.0, 0.0])\n",
    "sphere_init_vel = (15.0, -15.0, 0.0)\n",
    "sphere_init_qd = (0.0, 0.0, 0.0) + sphere_init_vel\n",
    "sphere_radius = 0.2\n",
    "sphere_mass = 1.0\n",
    "sphere_density = sphere_mass / (4.0 / 3.0 * np.pi * sphere_radius**3)\n",
    "sphere_rgb = np.array([0.2, 0.25, 0.7])\n",
    "\n",
    "# wall\n",
    "wall_pos = np.array([2.0, 1.0, 0.0])\n",
    "wall_extents = np.array([0.25, 1.0, 1.0])\n",
    "wall_rgb = np.array([0.7, 0.25, 0.2])\n",
    "\n",
    "# target\n",
    "target_pos = [-2.0, 1.5, 0.0]\n",
    "target_q = target_pos + [0.0, 0.0, 0.0, 1.0]\n",
    "\n",
    "# contact parameters\n",
    "ke = 1.0e4\n",
    "kf = 0.0\n",
    "kd = 1.0e1\n",
    "mu = 0.2\n",
    "rt = 1.0\n",
    "margin = 10.0\n",
    "\n",
    "# simulation parameters\n",
    "sim_duration = 0.6\n",
    "# control frequency\n",
    "fps = 60\n",
    "frame_dt = 1.0 / float(fps)\n",
    "frame_steps = int(sim_duration / frame_dt)\n",
    "# sim frequency\n",
    "sim_substeps = 8\n",
    "sim_steps = frame_steps * sim_substeps\n",
    "sim_dt = frame_dt / sim_substeps"
   ]
  },
  {
   "cell_type": "markdown",
   "metadata": {},
   "source": [
    "### Physics"
   ]
  },
  {
   "cell_type": "code",
   "execution_count": 3,
   "metadata": {},
   "outputs": [],
   "source": [
    "def build_phys(device):\n",
    "    builder = wps.ModelBuilder()\n",
    "    # particle\n",
    "    #builder.add_particle(pos=sphere_init_pos, vel=sphere_init_vel, radius=sphere_radius, mass=sphere_mass)\n",
    "    sphere_body_idx = builder.add_body(origin=wp.transform(sphere_init_pos, wp.quat_identity()))\n",
    "    builder.add_shape_sphere(body=sphere_body_idx, \n",
    "                             radius=sphere_radius, \n",
    "                             density=sphere_density,\n",
    "                             ke=ke, \n",
    "                             kf=kf, \n",
    "                             kd=kd, \n",
    "                             mu=mu,\n",
    "                             restitution=rt)\n",
    "    builder.body_qd[sphere_body_idx] = sphere_init_qd\n",
    "    # wall\n",
    "    builder.add_shape_box(body=-1, \n",
    "                          pos=wall_pos, \n",
    "                          hx=wall_extents[0], hy=wall_extents[1], hz=wall_extents[2], \n",
    "                          ke=ke, kf=kf, kd=kd, mu=mu)\n",
    "    model = builder.finalize(device, requires_grad=True)\n",
    "\n",
    "    # ground\n",
    "    model.soft_contact_kf = kf\n",
    "    model.soft_contact_margin = margin\n",
    "\n",
    "    # allocate sim states for trajectory\n",
    "    states = [model.state(requires_grad=True) for _ in range(sim_steps + 1)]\n",
    "\n",
    "    return model, states\n",
    "\n",
    "\n",
    "def capture_phys(device, model, integrator, states):\n",
    "    # tape tracks computation graph\n",
    "    tape = wp.Tape()\n",
    "    wp.capture_begin(device=device)\n",
    "    with tape:\n",
    "        for i in range(sim_steps):\n",
    "            states[i].clear_forces()\n",
    "            wp.sim.collide(model, states[i])\n",
    "            integrator.simulate(model, states[i], states[i + 1], sim_dt)\n",
    "    graph = wp.capture_end()\n",
    "\n",
    "    return graph, tape\n",
    "\n",
    "\n",
    "def get_trajectory(states):\n",
    "    trajectory = []\n",
    "    for state in states[::sim_substeps]:\n",
    "        trajectory.append(state.body_q.numpy()[0, :3])\n",
    "    return np.array(trajectory)"
   ]
  },
  {
   "cell_type": "markdown",
   "metadata": {},
   "source": [
    "### Rendering"
   ]
  },
  {
   "cell_type": "code",
   "execution_count": 4,
   "metadata": {},
   "outputs": [],
   "source": [
    "img_width = 256\n",
    "img_height = 256\n",
    "fov = 60\n",
    "\n",
    "render_integrator = {\n",
    "    'type': 'direct_reparam',\n",
    "}\n",
    "\n",
    "scene_dict = {\n",
    "    'type': 'scene',\n",
    "    'integrator': render_integrator,\n",
    "    'sensor':  {\n",
    "        'type': 'perspective',\n",
    "        'to_world': mit.look_at(\n",
    "                        origin=cam_pos,\n",
    "                        target=cam_target,\n",
    "                        up=cam_up),\n",
    "        'fov': fov,\n",
    "        'film': {\n",
    "            'type': 'hdrfilm',\n",
    "            'width': img_width,\n",
    "            'height': img_height,\n",
    "            'rfilter': { 'type': 'gaussian' },\n",
    "            'sample_border': True\n",
    "        },\n",
    "    },\n",
    "    \"light\": {\n",
    "        \"type\": \"constant\"\n",
    "    },\n",
    "    'particle': {\n",
    "        'type': 'sphere',\n",
    "        'center': sphere_init_pos,\n",
    "        'radius': sphere_radius,\n",
    "        'bsdf': {\n",
    "            'type': 'diffuse',\n",
    "            'reflectance': {\n",
    "                'type': 'rgb',\n",
    "                'value': sphere_rgb\n",
    "            }\n",
    "        }\n",
    "    },\n",
    "    'wall': {\n",
    "        'type': 'cube',\n",
    "        'to_world': mit.translate(wall_pos).scale(wall_extents),\n",
    "        'bsdf' : {\n",
    "            'type': 'diffuse',\n",
    "            'reflectance': {\n",
    "                'type': 'rgb',\n",
    "                'value': wall_rgb\n",
    "            }\n",
    "        }\n",
    "    },\n",
    "    \"ground\": {\n",
    "        \"type\": \"rectangle\",\n",
    "        \"to_world\": mit.rotate(axis=[1.0, 0.0, 0.0], angle=-90).scale(20),\n",
    "        \"bsdf\": {\n",
    "            \"type\": \"diffuse\",\n",
    "            'reflectance': {\n",
    "                'type': 'checkerboard',\n",
    "                'to_uv': mi.ScalarTransform4f.scale([10, 10, 1])\n",
    "            }\n",
    "        }\n",
    "    }\n",
    "}"
   ]
  },
  {
   "cell_type": "markdown",
   "metadata": {},
   "source": [
    "### States"
   ]
  },
  {
   "cell_type": "code",
   "execution_count": 5,
   "metadata": {},
   "outputs": [
    {
     "name": "stdout",
     "output_type": "stream",
     "text": [
      "Module warp.sim.collide load on device 'cuda:0' took 147.86 ms\n",
      "Module warp.utils load on device 'cuda:0' took 3.16 ms\n",
      "Module warp.sim.inertia load on device 'cuda:0' took 12.33 ms\n",
      "Module warp.sim.model load on device 'cuda:0' took 0.20 ms\n",
      "Module warp.sim.integrator load on device 'cuda:0' took 5.94 ms\n",
      "Module warp.sim.particles load on device 'cuda:0' took 4.09 ms\n",
      "Module warp.sim.utils load on device 'cuda:0' took 19.72 ms\n",
      "Module warp.sim.integrator_euler load on device 'cuda:0' took 105.66 ms\n",
      "Module warp.sim.articulation load on device 'cuda:0' took 48.99 ms\n",
      "Module warp.sim.integrator_featherstone load on device 'cuda:0' took 86.25 ms\n",
      "Module warp.sim.integrator_xpbd load on device 'cuda:0' took 274.06 ms\n",
      "Module warp.render.utils load on device 'cuda:0' took 4.11 ms\n",
      "Module warp.render.render_opengl load on device 'cuda:0' took 15.29 ms\n",
      "Module warp.sim.render load on device 'cuda:0' took 1.72 ms\n"
     ]
    }
   ],
   "source": [
    "# initial run \n",
    "phys_device = wp.get_cuda_devices()[0]\n",
    "phys_model, phys_states = build_phys(phys_device)\n",
    "phys_integrator = wp.sim.SemiImplicitIntegrator()\n",
    "phys_graph, phys_tape = capture_phys(phys_device, phys_model, phys_integrator, phys_states)\n",
    "wp.capture_launch(phys_graph)\n",
    "\n",
    "pred_state = phys_states[-1].body_q.numpy()[0, :3]"
   ]
  },
  {
   "cell_type": "code",
   "execution_count": 6,
   "metadata": {},
   "outputs": [],
   "source": [
    "# phys_stage = 'diff_physics_render_5.usd' \n",
    "# phys_renderer = wpr.SimRenderer(phys_model, phys_stage, scaling=1.0)\n",
    "\n",
    "# sim_time = np.arange(0, sim_duration + sim_dt, sim_dt)\n",
    "# for i in range(len(sim_time)):\n",
    "#     with wp.ScopedTimer('render', active=True):\n",
    "#         phys_renderer.begin_frame(sim_time[i])\n",
    "#         phys_renderer.render(phys_states[i])\n",
    "#         phys_renderer.end_frame()\n",
    "\n",
    "# phys_renderer.save()"
   ]
  },
  {
   "cell_type": "code",
   "execution_count": 7,
   "metadata": {},
   "outputs": [
    {
     "data": {
      "image/png": "[encoded data removed]",
      "text/plain": [
       "<Figure size 570.866x190.289 with 3 Axes>"
      ]
     },
     "metadata": {},
     "output_type": "display_data"
    }
   ],
   "source": [
    "fig_size = set_fig_size(subplots=(1, 3))\n",
    "fig, axs = plt.subplots(1, 3, figsize=fig_size, constrained_layout=True)\n",
    "\n",
    "init_start_scene_dict = dict(scene_dict)\n",
    "init_start_scene_dict['particle']['center'] = deepcopy(sphere_init_pos)\n",
    "bitmap_init = mi.util.convert_to_bitmap( mi.render(mi.load_dict(init_start_scene_dict), spp=16))\n",
    "axs[0].imshow(bitmap_init)\n",
    "axs[0].set_xticks([])\n",
    "axs[0].set_yticks([])\n",
    "axs[0].set_title('Start State')\n",
    "\n",
    "\n",
    "init_end_scene_dict = dict(scene_dict)\n",
    "init_end_scene_dict['particle']['center'] = deepcopy(pred_state)\n",
    "bitmap_init = mi.util.convert_to_bitmap( mi.render(mi.load_dict(init_end_scene_dict), spp=16))\n",
    "axs[1].imshow(bitmap_init)\n",
    "axs[1].set_xticks([])\n",
    "axs[1].set_yticks([])\n",
    "axs[1].set_title('Initial End State')\n",
    "\n",
    "\n",
    "target_scene_dict = dict(scene_dict)\n",
    "target_scene_dict['particle']['center'] = deepcopy(target_pos)\n",
    "bitmap_target = mi.util.convert_to_bitmap(mi.render(mi.load_dict(target_scene_dict), spp=16))\n",
    "axs[2].imshow(bitmap_target)\n",
    "axs[2].set_xticks([])\n",
    "axs[2].set_yticks([])\n",
    "axs[2].set_title('Target End State')\n",
    "\n",
    "plt.show()\n",
    "#plt.savefig('fig_direct_traj_states_sphere.pdf', bbox_inches='tight')"
   ]
  },
  {
   "cell_type": "markdown",
   "metadata": {},
   "source": [
    "### Optimization"
   ]
  },
  {
   "cell_type": "code",
   "execution_count": 8,
   "metadata": {},
   "outputs": [
    {
     "name": "stdout",
     "output_type": "stream",
     "text": [
      "iter_00:\n",
      "                 pose_loss=1.043851,\n",
      "                 vel=[[0.0, 0.0, 0.0, 14.998000144958496, -15.001999855041504, 0.0]],\n",
      "                 vel_grad=[[0.0, 0.0, 0.0, 0.3927183449268341, 1.1614272594451904, 0.0]],\n",
      "                 end_pose=[-1.6727, 2.4679]\n",
      "iter_100:\n",
      "                 pose_loss=2.199775,\n",
      "                 vel=[[0.0, 0.0, 0.0, 14.821023941040039, -15.173551559448242, 0.0]],\n",
      "                 vel_grad=[[0.0, 0.0, -2.1678990833606804e-06, 3.1527457237243652, 4.91098690032959, 0.0]],\n",
      "                 end_pose=[-1.2863, 0.1998]\n",
      "iter_200:\n",
      "                 pose_loss=2.225254,\n",
      "                 vel=[[0.0, 0.0, 0.0, 14.804450035095215, -15.17162036895752, 0.0]],\n",
      "                 vel_grad=[[0.0, 0.0, 0.0, 0.0, 0.0, 0.0]],\n",
      "                 end_pose=[-1.2687, 0.1998]\n"
     ]
    }
   ],
   "source": [
    "# training details\n",
    "train_iters = 200\n",
    "train_rate = 0.002\n",
    "train_save_interval = 100\n",
    "\n",
    "# physics\n",
    "phys_device = wp.get_cuda_devices()[0]\n",
    "phys_model, phys_states = build_phys(phys_device)\n",
    "phys_integrator = wp.sim.SemiImplicitIntegrator()\n",
    "phys_graph, phys_tape = capture_phys(phys_device, phys_model, phys_integrator, phys_states)\n",
    "\n",
    "# variables\n",
    "x = wp.to_torch(phys_states[0].body_qd)\n",
    "pred = wp.to_torch(phys_states[-1].body_q)\n",
    "target = torch.tensor(target_q, dtype=torch.float32, device=torch.device('cuda')).unsqueeze(0)\n",
    "\n",
    "# optimization\n",
    "opt = torch.optim.Adam([x], lr=train_rate)\n",
    "loss = torch.nn.MSELoss(reduction='sum')\n",
    "\n",
    "# metrics\n",
    "trajs = []\n",
    "losses = []\n",
    "\n",
    "for i in range(train_iters+1):\n",
    "    # zero grads\n",
    "    opt.zero_grad(set_to_none=False)\n",
    "    phys_tape.zero()\n",
    "\n",
    "    # forward pass\n",
    "    wp.capture_launch(phys_graph)\n",
    "    target.data[0, 3:] = pred.data[0, 3:]\n",
    "    output = loss(pred, target)\n",
    "\n",
    "    if i < train_iters:  \n",
    "        # backprop\n",
    "        output.backward()\n",
    "        phys_pred = wp.from_torch(pred)\n",
    "        phys_tape.backward(grads={phys_pred : phys_pred.grad})\n",
    "        opt.step()\n",
    "        x.data[0, :3] = 0.0\n",
    "        x.data[0, -1] = 0.0\n",
    "\n",
    "    losses.append(output.cpu().detach().numpy())\n",
    "    if i % train_save_interval == 0:\n",
    "        print(f\"iter_{i:02d}:\\n \\\n",
    "                pose_loss={losses[-1]:6f},\\n \\\n",
    "                vel={x.cpu().tolist()},\\n \\\n",
    "                vel_grad={x.grad.cpu().tolist()},\\n \\\n",
    "                end_pose=[{pred[0,0]:.4f}, {pred[0,1]:.4f}]\")\n",
    "        trajs.append(get_trajectory(phys_states))"
   ]
  },
  {
   "cell_type": "markdown",
   "metadata": {},
   "source": [
    "### Results"
   ]
  },
  {
   "cell_type": "code",
   "execution_count": 9,
   "metadata": {},
   "outputs": [
    {
     "data": {
      "image/png": "[encoded data removed]",
      "text/plain": [
       "<Figure size 570.866x285.433 with 2 Axes>"
      ]
     },
     "metadata": {},
     "output_type": "display_data"
    }
   ],
   "source": [
    "fig_size = set_fig_size(fraction=1.0, subplots=(1, 2))\n",
    "fig, axs = plt.subplots(1, 2, figsize=fig_size, constrained_layout=True)\n",
    "\n",
    "################\n",
    "# Trajectories #\n",
    "################\n",
    "\n",
    "for i, vel_traj in enumerate(trajs):\n",
    "    axs[0].plot(vel_traj[:, 0], vel_traj[:, 1], label=f'{i*train_save_interval}')\n",
    "axs[0].scatter(sphere_init_pos[0], sphere_init_pos[1], facecolors='none', edgecolors='black', s=50)\n",
    "axs[0].scatter(target_pos[0], target_pos[1], color='black', marker='+', s=50)\n",
    "axs[0].set_xlim([-2.1, 2.1])\n",
    "axs[0].set_yticks(np.arange(0.0, 2.6, 0.5))\n",
    "axs[0].set_ylim([0.0, 2.5])\n",
    "axs[0].set_title('Trajectories') \n",
    "axs[0].set_xlabel('x')\n",
    "axs[0].set_ylabel('y')\n",
    "axs[0].legend(handlelength=1.0, loc='upper right')\n",
    "\n",
    "##########\n",
    "# Losses #\n",
    "##########\n",
    "\n",
    "axs[1].plot(np.log(losses))\n",
    "axs[1].set_yticks(np.arange(0, 1.1, 0.5))\n",
    "axs[1].set_ylim([0, 1.1])\n",
    "axs[1].set_title('Log Pose Loss per Iteration')\n",
    "axs[1].set_xlabel('Iteration')\n",
    "axs[1].set_ylabel('Log Pose Loss')\n",
    "\n",
    "plt.show()\n",
    "#plt.savefig('fig_direct_traj_optim_sphere.pdf', bbox_inches='tight')"
   ]
  },
  {
   "cell_type": "code",
   "execution_count": null,
   "metadata": {},
   "outputs": [],
   "source": []
  }
 ],
 "metadata": {
  "kernelspec": {
   "display_name": "warp",
   "language": "python",
   "name": "python3"
  },
  "language_info": {
   "codemirror_mode": {
    "name": "ipython",
    "version": 3
   },
   "file_extension": ".py",
   "mimetype": "text/x-python",
   "name": "python",
   "nbconvert_exporter": "python",
   "pygments_lexer": "ipython3",
   "version": "3.10.13"
  }
 },
 "nbformat": 4,
 "nbformat_minor": 2
}
