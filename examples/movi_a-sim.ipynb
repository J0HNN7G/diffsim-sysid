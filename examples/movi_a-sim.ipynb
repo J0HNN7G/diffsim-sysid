{
 "cells": [
  {
   "cell_type": "code",
   "execution_count": null,
   "metadata": {},
   "outputs": [],
   "source": [
    "# project\n",
    "import os\n",
    "import sys \n",
    "project_dir = os.path.join(os.path.expanduser('~'), 'git', 'diffsim-sysid')\n",
    "sys.path.insert(1, project_dir)\n",
    "# physics\n",
    "import warp as wp\n",
    "# graphics\n",
    "import mitsuba as mi\n",
    "# plots\n",
    "from matplotlib import pyplot as plt\n",
    "from src.mpl_utils import set_fig_size, set_mpl_format\n",
    "# config\n",
    "from src.config import cfg\n",
    "# dataset\n",
    "from src.sim import Simulator\n",
    "from src.dataset import load_train_data\n",
    "\n",
    "# setup\n",
    "set_mpl_format()\n",
    "wp.init()\n",
    "mi.set_variant('llvm_ad_rgb')\n",
    "print(f'Mitsuba 3 Variant: {mi.variant()}')"
   ]
  },
  {
   "cell_type": "markdown",
   "metadata": {},
   "source": [
    "### Config"
   ]
  },
  {
   "cell_type": "code",
   "execution_count": null,
   "metadata": {},
   "outputs": [],
   "source": [
    "# fill in your directory set up here\n",
    "config_fp = os.path.join(project_dir, f'cfg/templates/comp-movi_a.yaml')\n",
    "cfg.merge_from_file(config_fp)\n",
    "cfg.path = project_dir\n",
    "cfg.DATA.path = os.path.join(project_dir, 'data/sets/')\n",
    "print(cfg)"
   ]
  },
  {
   "cell_type": "markdown",
   "metadata": {},
   "source": [
    "### Data"
   ]
  },
  {
   "cell_type": "code",
   "execution_count": null,
   "metadata": {},
   "outputs": [],
   "source": [
    "train_ds, ds_info = load_train_data(cfg)\n",
    "example = next(iter(train_ds))\n",
    "time_step = 20\n",
    "vid_id = example['metadata']['video_name']\n",
    "print(f'Video: {vid_id}')"
   ]
  },
  {
   "cell_type": "markdown",
   "metadata": {},
   "source": [
    "### Rendering"
   ]
  },
  {
   "cell_type": "code",
   "execution_count": null,
   "metadata": {},
   "outputs": [],
   "source": [
    "sim = Simulator(cfg, example)\n",
    "recon_dict = sim.get_render_orig_timestep_dict(time_step)\n",
    "recon_img = mi.render(mi.load_dict(recon_dict), spp=64)\n",
    "\n",
    "our_dict = sim.get_render_timestep_dict(-1)\n",
    "our_img = mi.render(mi.load_dict(our_dict), spp=64)"
   ]
  },
  {
   "cell_type": "code",
   "execution_count": null,
   "metadata": {},
   "outputs": [],
   "source": [
    "fig_size = set_fig_size(subplots=(1, 3))\n",
    "fig, axs = plt.subplots(1, 3, figsize=fig_size, constrained_layout=True)\n",
    "\n",
    "\n",
    "movi_img = example['video'][time_step]\n",
    "axs[0].imshow(movi_img)\n",
    "axs[0].set_xticks([])\n",
    "axs[0].set_yticks([])\n",
    "axs[0].set_title('MOVi A Snapshot')\n",
    "\n",
    "scene_bitmap = mi.util.convert_to_bitmap(recon_img)\n",
    "axs[1].imshow(scene_bitmap)\n",
    "axs[1].set_xticks([])\n",
    "axs[1].set_yticks([])\n",
    "axs[1].set_title('Mitsuba 3 Reconstruction')\n",
    "\n",
    "scene_bitmap = mi.util.convert_to_bitmap(our_img)\n",
    "axs[2].imshow(scene_bitmap)\n",
    "axs[2].set_xticks([])\n",
    "axs[2].set_yticks([])\n",
    "axs[2].set_title('Our Snapshot')\n",
    "\n",
    "plt.show()\n",
    "#plt.savefig('fig_movi_a_mitsuba.pdf', bbox_inches='tight')"
   ]
  },
  {
   "cell_type": "code",
   "execution_count": null,
   "metadata": {},
   "outputs": [],
   "source": [
    "# # for backprop\n",
    "# def run_phys(model, integrator, states):\n",
    "#     # computation graph\n",
    "#     tape = wp.Tape()\n",
    "#     with tape:\n",
    "#         for i in range(SIM_STEPS):\n",
    "#             states[i].clear_forces()\n",
    "#             wp.sim.collide(model, states[i])\n",
    "#             integrator.simulate(model, states[i], states[i + 1], SIM_DT)\n",
    "\n",
    "#     return tape"
   ]
  }
 ],
 "metadata": {
  "kernelspec": {
   "display_name": "warp",
   "language": "python",
   "name": "python3"
  },
  "language_info": {
   "codemirror_mode": {
    "name": "ipython",
    "version": 3
   },
   "file_extension": ".py",
   "mimetype": "text/x-python",
   "name": "python",
   "nbconvert_exporter": "python",
   "pygments_lexer": "ipython3",
   "version": "3.10.13"
  }
 },
 "nbformat": 4,
 "nbformat_minor": 2
}
