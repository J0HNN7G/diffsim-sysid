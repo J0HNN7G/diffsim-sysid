{
 "cells": [
  {
   "cell_type": "markdown",
   "metadata": {},
   "source": [
    "## Pose Optimization with Differentable Rendering"
   ]
  },
  {
   "cell_type": "markdown",
   "metadata": {},
   "source": [
    "### Imports"
   ]
  },
  {
   "cell_type": "code",
   "execution_count": 1,
   "metadata": {},
   "outputs": [
    {
     "name": "stdout",
     "output_type": "stream",
     "text": [
      "Mitsuba 3 Variant: llvm_ad_rgb\n"
     ]
    }
   ],
   "source": [
    "# project\n",
    "import os\n",
    "import sys \n",
    "project_dir = os.path.join(os.path.expanduser('~'), 'git', 'diffsim-sysid')\n",
    "sys.path.insert(1, project_dir)\n",
    "# math\n",
    "import numpy as np\n",
    "# optim\n",
    "import torch\n",
    "# graphics\n",
    "from copy import deepcopy\n",
    "import drjit as dr\n",
    "import mitsuba as mi\n",
    "from mitsuba.scalar_rgb import Transform4f as mit\n",
    "# plots\n",
    "import matplotlib as mpl\n",
    "from matplotlib import pyplot as plt\n",
    "from src.plot import set_fig_size, set_mpl_format\n",
    "\n",
    "# setup\n",
    "set_mpl_format()\n",
    "mi.set_variant('llvm_ad_rgb')\n",
    "print(f'Mitsuba 3 Variant: {mi.variant()}')"
   ]
  },
  {
   "cell_type": "markdown",
   "metadata": {},
   "source": [
    "### Scene"
   ]
  },
  {
   "cell_type": "code",
   "execution_count": 2,
   "metadata": {},
   "outputs": [],
   "source": [
    "# camera positioned to view the scene, adjust as needed\n",
    "cam_pos = np.array([0.0, 1.0, 5.0])  \n",
    "cam_target = np.array([0.0, 1.0, 0.0])\n",
    "cam_up = np.array([0.0, 1.0, 0.0])\n",
    "\n",
    "# particle\n",
    "particle_init_pos = np.array([0.0, 1.0, 0.0])\n",
    "particle_rgb = np.array([0.2, 0.25, 0.7])\n",
    "\n",
    "# target\n",
    "target_pos = np.array([-1.5, 2.5, 0.0])\n",
    "target_trans = (target_pos - particle_init_pos)\n",
    "\n",
    "# optimization radiuses to try\n",
    "fail_radius = 1.0\n",
    "success_radius = 1.5"
   ]
  },
  {
   "cell_type": "markdown",
   "metadata": {},
   "source": [
    "### Rendering"
   ]
  },
  {
   "cell_type": "code",
   "execution_count": 3,
   "metadata": {},
   "outputs": [],
   "source": [
    "img_width = 256\n",
    "img_height = 256\n",
    "fov = 60\n",
    "\n",
    "render_integrator = {\n",
    "    'type': 'direct_reparam',\n",
    "}\n",
    "\n",
    "scene_dict = {\n",
    "    'type': 'scene',\n",
    "    'integrator': render_integrator,\n",
    "    'sensor':  {\n",
    "        'type': 'perspective',\n",
    "        'to_world': mit.look_at(\n",
    "                        origin=cam_pos,\n",
    "                        target=cam_target,\n",
    "                        up=cam_up),\n",
    "        'fov': fov,\n",
    "        'film': {\n",
    "            'type': 'hdrfilm',\n",
    "            'width': img_width,\n",
    "            'height': img_height,\n",
    "            'rfilter': { 'type': 'gaussian' },\n",
    "            'sample_border': True\n",
    "        },\n",
    "    },\n",
    "    \"light\": {\n",
    "        \"type\": \"constant\"\n",
    "    },\n",
    "    'particle': {\n",
    "        'type': 'sphere',\n",
    "        'center': particle_init_pos,\n",
    "        'radius': success_radius,\n",
    "        'bsdf': {'type': 'diffuse'}\n",
    "    },\n",
    "}\n",
    "\n",
    "\n",
    "init_scene_dict = dict(scene_dict)\n",
    "init_scene_dict['particle']['center'] = deepcopy(particle_init_pos)\n",
    "img_init = mi.render(mi.load_dict(init_scene_dict), spp=16)\n",
    "\n",
    "target_scene_dict = dict(scene_dict)\n",
    "target_scene_dict['particle']['center'] = deepcopy(target_pos)\n",
    "img_ref = mi.render(mi.load_dict(target_scene_dict), spp=16)"
   ]
  },
  {
   "cell_type": "markdown",
   "metadata": {},
   "source": [
    "### Optimization"
   ]
  },
  {
   "cell_type": "code",
   "execution_count": 4,
   "metadata": {},
   "outputs": [
    {
     "name": "stdout",
     "output_type": "stream",
     "text": [
      "iter_00: img_loss=0.090350, trans_error=2.084294 trans=[-0.0264, 0.0260]\n",
      "iter_05: img_loss=0.083095, trans_error=1.889308 trans=[-0.1598, 0.1683]\n",
      "iter_10: img_loss=0.074824, trans_error=1.683971 trans=[-0.3061, 0.3124]\n",
      "iter_15: img_loss=0.065514, trans_error=1.465952 trans=[-0.4629, 0.4639]\n",
      "iter_20: img_loss=0.055343, trans_error=1.242964 trans=[-0.6205, 0.6217]\n",
      "iter_25: img_loss=0.043973, trans_error=1.004890 trans=[-0.7884, 0.7905]\n",
      "iter_30: img_loss=0.032264, trans_error=0.762239 trans=[-0.9598, 0.9622]\n",
      "iter_35: img_loss=0.019829, trans_error=0.516429 trans=[-1.1330, 1.1366]\n",
      "iter_40: img_loss=0.010143, trans_error=0.314827 trans=[-1.2740, 1.2809]\n",
      "iter_45: img_loss=0.004992, trans_error=0.163104 trans=[-1.3824, 1.3869]\n",
      "iter_50: img_loss=0.001499, trans_error=0.039783 trans=[-1.4718, 1.4719]\n",
      "iter_55: img_loss=0.000356, trans_error=0.001104 trans=[-1.5011, 1.5001]\n",
      "iter_60: img_loss=0.000356, trans_error=0.001284 trans=[-1.5013, 1.5002]\n"
     ]
    }
   ],
   "source": [
    "# training details\n",
    "train_iters = 60\n",
    "train_rate = 1.0\n",
    "train_save_interval = 5\n",
    "\n",
    "# rendering\n",
    "scene_dict = dict(scene_dict)\n",
    "scene_dict['particle']['center'] = deepcopy(particle_init_pos)\n",
    "scene = mi.load_dict(scene_dict)\n",
    "scene_spp = 4\n",
    "params = mi.traverse(scene)\n",
    "start_state = mi.Transform4f(params['particle.to_world'])\n",
    "@dr.wrap_ad(source='torch', target='drjit')\n",
    "def render(trans):\n",
    "    trans = dr.unravel(mi.Point3f, trans)\n",
    "    trafo = mi.Transform4f.translate([trans.x, trans.y, 0.0])\n",
    "    params['particle.to_world'] = trafo @ start_state\n",
    "    params.update()\n",
    "    img = mi.render(scene, params, spp=scene_spp)\n",
    "    return img\n",
    "\n",
    "# variables\n",
    "trans = torch.tensor([[0.0, 0.0, 0.0]], requires_grad=True)\n",
    "target = torch.tensor(target_trans, dtype=torch.float32).unsqueeze(0)\n",
    "\n",
    "# optimization\n",
    "opt = torch.optim.SGD([trans], lr=train_rate)\n",
    "loss = torch.nn.MSELoss(reduction='mean')\n",
    "\n",
    "# metrics\n",
    "trans_errors = []\n",
    "img_losses = []\n",
    "\n",
    "for i in range(train_iters+1):\n",
    "    opt.zero_grad()\n",
    "\n",
    "    # forward pass\n",
    "    img = render(trans)\n",
    "    img_loss = loss(img, img_ref.torch())\n",
    "    if i < train_iters:\n",
    "        # backprop\n",
    "        img_loss.backward()\n",
    "        opt.step()\n",
    "\n",
    "    img_losses.append(img_loss.detach().numpy())\n",
    "    trans_error = torch.linalg.norm(target - trans).detach().numpy()\n",
    "    trans_errors.append(trans_error)\n",
    "    if i % train_save_interval == 0:\n",
    "        print(f\"iter_{i:02d}: img_loss={img_losses[-1]:6f}, trans_error={trans_errors[-1]:6f} trans=[{trans[0,0]:.4f}, {trans[0,1]:.4f}]\")"
   ]
  },
  {
   "cell_type": "markdown",
   "metadata": {},
   "source": [
    "### Results"
   ]
  },
  {
   "cell_type": "code",
   "execution_count": 23,
   "metadata": {},
   "outputs": [
    {
     "data": {
      "image/png": "[encoded data removed]",
      "text/plain": [
       "<Figure size 570.866x285.433 with 2 Axes>"
      ]
     },
     "metadata": {},
     "output_type": "display_data"
    }
   ],
   "source": [
    "########\n",
    "# Loss #\n",
    "########\n",
    "fig_size = set_fig_size(subplots=(1, 2))\n",
    "fig, axs = plt.subplots(1, 2, figsize=fig_size, constrained_layout=True)\n",
    "\n",
    "axs[0].plot(np.log(img_losses))\n",
    "axs[0].set_yticks(np.arange(-2, -10, -2))\n",
    "axs[0].set_ylim([-8.5, -2])\n",
    "axs[0].set_xlabel('Iteration')\n",
    "axs[0].set_ylabel('Log Image Loss')\n",
    "axs[0].set_title('Log Image Loss per Iteration')\n",
    "\n",
    "axs[1].plot(trans_errors)\n",
    "axs[1].set_yticks(np.arange(0, 2.2, 0.5))\n",
    "axs[1].set_ylim([-0.1, 2.2])\n",
    "axs[1].set_xlabel('Iteration')\n",
    "axs[1].set_ylabel('Translation Error')\n",
    "axs[1].set_title('Translation Error per Iteration')\n",
    "\n",
    "plt.show()\n",
    "#plt.savefig('fig_img_pose_optim.pdf', bbox_inches='tight')"
   ]
  },
  {
   "cell_type": "code",
   "execution_count": 6,
   "metadata": {},
   "outputs": [
    {
     "data": {
      "image/png": "[encoded data removed]",
      "text/plain": [
       "<Figure size 570.866x190.289 with 3 Axes>"
      ]
     },
     "metadata": {},
     "output_type": "display_data"
    }
   ],
   "source": [
    "##########\n",
    "# States #\n",
    "##########\n",
    "fig_size = set_fig_size(subplots=(1, 3))\n",
    "fig, axs = plt.subplots(1, 3, figsize=fig_size, constrained_layout=True)\n",
    "\n",
    "axs[0].imshow(mi.util.convert_to_bitmap(img_init))\n",
    "axs[0].set_xticks([])\n",
    "axs[0].set_yticks([])\n",
    "axs[0].set_title('Initial Image')\n",
    "\n",
    "axs[1].imshow(mi.util.convert_to_bitmap(mi.render(scene, spp=16)))\n",
    "axs[1].set_xticks([])\n",
    "axs[1].set_yticks([])\n",
    "axs[1].set_title('Optimized Image')\n",
    "\n",
    "axs[2].imshow(mi.util.convert_to_bitmap(img_ref))\n",
    "axs[2].set_xticks([])\n",
    "axs[2].set_yticks([])\n",
    "axs[2].set_title('Target Image')\n",
    "\n",
    "plt.show()\n",
    "#plt.savefig('fig_img_pose_states.pdf', bbox_inches='tight')"
   ]
  },
  {
   "cell_type": "code",
   "execution_count": null,
   "metadata": {},
   "outputs": [],
   "source": []
  }
 ],
 "metadata": {
  "kernelspec": {
   "display_name": "warp",
   "language": "python",
   "name": "python3"
  },
  "language_info": {
   "codemirror_mode": {
    "name": "ipython",
    "version": 3
   },
   "file_extension": ".py",
   "mimetype": "text/x-python",
   "name": "python",
   "nbconvert_exporter": "python",
   "pygments_lexer": "ipython3",
   "version": "3.10.13"
  }
 },
 "nbformat": 4,
 "nbformat_minor": 2
}
