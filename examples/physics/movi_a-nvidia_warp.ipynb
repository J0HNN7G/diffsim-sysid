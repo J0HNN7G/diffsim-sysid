{
 "cells": [
  {
   "cell_type": "code",
   "execution_count": null,
   "metadata": {},
   "outputs": [],
   "source": [
    "# project\n",
    "import os\n",
    "import sys \n",
    "project_dir = os.path.join(os.path.expanduser('~'), 'git', 'diffsim-sysid')\n",
    "sys.path.insert(1, project_dir)\n",
    "# math\n",
    "import numpy as np\n",
    "import torch\n",
    "import pytorch3d\n",
    "import pytorch3d.transforms\n",
    "# physics\n",
    "# plots\n",
    "import matplotlib as mpl\n",
    "from matplotlib import pyplot as plt\n",
    "from src.plot import set_fig_size, set_mpl_format\n",
    "# config\n",
    "from src.config import cfg\n",
    "# dataset\n",
    "from src.dataset import load_train_data\n",
    "from src.data.visualize import print_example\n",
    "\n",
    "# setup\n",
    "set_mpl_format()"
   ]
  },
  {
   "cell_type": "markdown",
   "metadata": {},
   "source": [
    "### Config"
   ]
  },
  {
   "cell_type": "code",
   "execution_count": null,
   "metadata": {},
   "outputs": [],
   "source": [
    "# fill in your directory set up here\n",
    "config_fp = os.path.join(project_dir, f'cfg/templates/comp-movi_a.yaml')\n",
    "cfg.merge_from_file(config_fp)\n",
    "cfg.DATA.path = os.path.join(project_dir, 'data/sets/')\n",
    "print(cfg)"
   ]
  },
  {
   "cell_type": "markdown",
   "metadata": {},
   "source": [
    "### Data"
   ]
  },
  {
   "cell_type": "code",
   "execution_count": null,
   "metadata": {},
   "outputs": [],
   "source": [
    "train_ds, ds_info = load_train_data(cfg)\n",
    "example = next(iter(train_ds))"
   ]
  },
  {
   "cell_type": "code",
   "execution_count": null,
   "metadata": {},
   "outputs": [],
   "source": [
    "vid_id = example['metadata']['video_name']\n",
    "obj_count = example['metadata']['num_instances']\n",
    "print(f'Video: {vid_id}, Num objects: {obj_count}')"
   ]
  },
  {
   "cell_type": "markdown",
   "metadata": {},
   "source": [
    "### Scene"
   ]
  },
  {
   "cell_type": "markdown",
   "metadata": {},
   "source": []
  }
 ],
 "metadata": {
  "language_info": {
   "name": "python"
  }
 },
 "nbformat": 4,
 "nbformat_minor": 2
}
