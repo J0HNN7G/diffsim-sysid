{
 "cells": [
  {
   "cell_type": "code",
   "execution_count": null,
   "metadata": {},
   "outputs": [],
   "source": [
    "# project\n",
    "import os\n",
    "import sys \n",
    "project_dir = os.path.join(os.path.expanduser('~'), 'git', 'diffsim-sysid')\n",
    "sys.path.insert(1, project_dir)\n",
    "# math\n",
    "import numpy as np\n",
    "import torch\n",
    "import pytorch3d\n",
    "import pytorch3d.transforms\n",
    "# physics\n",
    "import warp as wp\n",
    "import warp.sim as wps\n",
    "# plots\n",
    "import matplotlib as mpl\n",
    "from matplotlib import pyplot as plt\n",
    "from src.mpl_utils import set_fig_size, set_mpl_format\n",
    "# config\n",
    "from src.config import cfg\n",
    "# dataset\n",
    "from src.dataset import load_train_data\n",
    "from src.data.visualize import print_example\n",
    "\n",
    "# setup\n",
    "set_mpl_format()\n",
    "wp.init()"
   ]
  },
  {
   "cell_type": "markdown",
   "metadata": {},
   "source": [
    "### Config"
   ]
  },
  {
   "cell_type": "code",
   "execution_count": null,
   "metadata": {},
   "outputs": [],
   "source": [
    "# fill in your directory set up here\n",
    "config_fp = os.path.join(project_dir, f'cfg/templates/comp-movi_a.yaml')\n",
    "cfg.merge_from_file(config_fp)\n",
    "cfg.DATA.path = os.path.join(project_dir, 'data/sets/')\n",
    "print(cfg)"
   ]
  },
  {
   "cell_type": "markdown",
   "metadata": {},
   "source": [
    "### Data"
   ]
  },
  {
   "cell_type": "code",
   "execution_count": null,
   "metadata": {},
   "outputs": [],
   "source": [
    "train_ds, ds_info = load_train_data(cfg)\n",
    "example = next(iter(train_ds))"
   ]
  },
  {
   "cell_type": "code",
   "execution_count": null,
   "metadata": {},
   "outputs": [],
   "source": [
    "vid_id = example['metadata']['video_name']\n",
    "obj_count = example['metadata']['num_instances']\n",
    "print(f'Video: {vid_id}, Num objects: {obj_count}')"
   ]
  },
  {
   "cell_type": "code",
   "execution_count": null,
   "metadata": {},
   "outputs": [],
   "source": [
    "example['instances']['velocities'].shape"
   ]
  },
  {
   "cell_type": "code",
   "execution_count": null,
   "metadata": {},
   "outputs": [],
   "source": [
    "example['instances'].keys()"
   ]
  },
  {
   "cell_type": "markdown",
   "metadata": {},
   "source": [
    "### Scene"
   ]
  },
  {
   "cell_type": "code",
   "execution_count": null,
   "metadata": {},
   "outputs": [],
   "source": [
    "# simulation parameters\n",
    "sim_duration = 1.0\n",
    "# control frequency\n",
    "fps = 12\n",
    "frame_dt = 1.0 / float(fps)\n",
    "frame_steps = int(sim_duration / frame_dt)\n",
    "# sim frequency\n",
    "sim_substeps = 8 * 5\n",
    "sim_steps = frame_steps * sim_substeps\n",
    "sim_dt = frame_dt / sim_substeps"
   ]
  },
  {
   "cell_type": "markdown",
   "metadata": {},
   "source": [
    "### Physics"
   ]
  },
  {
   "cell_type": "code",
   "execution_count": null,
   "metadata": {},
   "outputs": [],
   "source": [
    "CLEVR_SHAPE_NAMES = (\"cube\", \"cylinder\", \"sphere\")\n",
    "CLEVR_SIZE_NAMES = ('small', 'large')\n",
    "CLEVR_SIZES = (0.7, 1.4)\n",
    "CLEVR_DENSITIES = (1.1, 2.7)\n",
    "\n",
    "phys_device = wp.get_cuda_device()\n",
    "phys_builder = wps.ModelBuilder(up_vector=(0, 0, 1))\n",
    "\n",
    "ground_mu = 0.3\n",
    "ground_restitution = 0.5\n",
    "\n",
    "# ground\n",
    "phys_builder.set_ground_plane(mu=ground_mu, \n",
    "                              restitution=ground_restitution)\n",
    "\n",
    "for obj_idx in range(obj_count):\n",
    "    obj_class_idx = example['instances']['shape_label'][obj_idx]\n",
    "    obj_class = CLEVR_SHAPE_NAMES[obj_class_idx]\n",
    "    \n",
    "    obj_scale_idx = example['instances']['size_label'][obj_idx]\n",
    "    obj_scale = CLEVR_SIZES[obj_scale_idx] / 2.0\n",
    "    obj_pos = example['instances']['positions'][obj_idx][0]\n",
    "    obj_ori = example['instances']['quaternions'][obj_idx][0]\n",
    "\n",
    "    obj_vel = example['instances']['velocities'][obj_idx][0]\n",
    "\n",
    "    obj_material = example['instances']['material_label'][obj_idx]\n",
    "    obj_density = CLEVR_DENSITIES[obj_material]\n",
    "\n",
    "    obj_mass = float(example['instances']['mass'][obj_idx])\n",
    "    obj_fric = example['instances']['friction'][obj_idx]\n",
    "    obj_restitution = example['instances']['restitution'][obj_idx]\n",
    "\n",
    "    phys_builder.add_particle(\n",
    "        pos=obj_pos,\n",
    "        vel=obj_vel,\n",
    "        radius=obj_scale,\n",
    "        mass=obj_mass,\n",
    "        \n",
    "    )\n",
    "\n",
    "phys_model = phys_builder.finalize(phys_device, requires_grad=False)\n",
    "\n",
    "phys_states = [phys_model.state(requires_grad=False) for _ in range(sim_steps + 1)]"
   ]
  },
  {
   "cell_type": "code",
   "execution_count": null,
   "metadata": {},
   "outputs": [],
   "source": [
    "def capture_phys(device, model, integrator, states):\n",
    "    # tape tracks computation graph\n",
    "    tape = wp.Tape()\n",
    "    wp.capture_begin(device=device)\n",
    "    with tape:\n",
    "        for i in range(sim_steps):\n",
    "            states[i].clear_forces()\n",
    "            wp.sim.collide(model, states[i])\n",
    "            integrator.simulate(model, states[i], states[i + 1], sim_dt)\n",
    "    graph = wp.capture_end()\n",
    "\n",
    "    return graph, tape\n",
    "\n",
    "\n",
    "def get_trajectory(states):\n",
    "    trajectory = []\n",
    "    for state in states[::sim_substeps]:\n",
    "        trajectory.append(state.particle_q.numpy().squeeze())\n",
    "    return np.array(trajectory)\n",
    "\n",
    "\n",
    "def distance(target_pose, pred_pose):\n",
    "    return torch.linalg.norm(target_pose - pred_pose)"
   ]
  },
  {
   "cell_type": "code",
   "execution_count": null,
   "metadata": {},
   "outputs": [],
   "source": [
    "# initial run \n",
    "phys_integrator = wp.sim.SemiImplicitIntegrator()\n",
    "phys_graph, phys_tape = capture_phys(phys_device, phys_model, phys_integrator, phys_states)\n",
    "wp.capture_launch(phys_graph)"
   ]
  },
  {
   "cell_type": "code",
   "execution_count": null,
   "metadata": {},
   "outputs": [],
   "source": [
    "positions = np.zeros_like(example['instances']['positions'])\n",
    "quaternions = np.zeros_like(example['instances']['quaternions'])\n",
    "\n",
    "for i in range(len(phys_states)):\n",
    "    pos_ori = phys_states[i].body_q.numpy()\n",
    "    positions[i] = pos_ori[i, :3]\n",
    "    quaternions[i] = pos_ori[i, 3:]"
   ]
  }
 ],
 "metadata": {
  "kernelspec": {
   "display_name": "warp",
   "language": "python",
   "name": "python3"
  },
  "language_info": {
   "codemirror_mode": {
    "name": "ipython",
    "version": 3
   },
   "file_extension": ".py",
   "mimetype": "text/x-python",
   "name": "python",
   "nbconvert_exporter": "python",
   "pygments_lexer": "ipython3",
   "version": "3.10.13"
  }
 },
 "nbformat": 4,
 "nbformat_minor": 2
}
