{
 "cells": [
  {
   "cell_type": "code",
   "execution_count": 1,
   "metadata": {},
   "outputs": [
    {
     "name": "stderr",
     "output_type": "stream",
     "text": [
      "2024-04-05 16:23:19.638560: I tensorflow/core/platform/cpu_feature_guard.cc:193] This TensorFlow binary is optimized with oneAPI Deep Neural Network Library (oneDNN) to use the following CPU instructions in performance-critical operations:  SSE4.1 SSE4.2 AVX AVX2 FMA\n",
      "To enable them in other operations, rebuild TensorFlow with the appropriate compiler flags.\n"
     ]
    },
    {
     "name": "stdout",
     "output_type": "stream",
     "text": [
      "Warp 1.0.2 initialized:\n",
      "   CUDA Toolkit 11.5, Driver 11.4\n",
      "   Devices:\n",
      "     \"cpu\"      : \"x86_64\"\n",
      "     \"cuda:0\"   : \"NVIDIA GeForce GTX 1050 Ti with Max-Q Design\" (4 GiB, sm_61, mempool enabled)\n",
      "   Kernel cache:\n",
      "     /home/jonathan/.cache/warp/1.0.2\n"
     ]
    }
   ],
   "source": [
    "# project\n",
    "import os\n",
    "import sys \n",
    "project_dir = os.path.join(os.path.expanduser('~'), 'git', 'diffsim-sysid')\n",
    "sys.path.insert(1, project_dir)\n",
    "# math\n",
    "import numpy as np\n",
    "# physics\n",
    "import openmesh\n",
    "import warp as wp\n",
    "import warp.sim as wps\n",
    "from src.warp_utils import render_usd\n",
    "# config\n",
    "from src.config import cfg\n",
    "# dataset\n",
    "from src.dataset import load_train_data\n",
    "from src.data.visualize import print_example\n",
    "\n",
    "# setup\n",
    "wp.init()"
   ]
  },
  {
   "cell_type": "markdown",
   "metadata": {},
   "source": [
    "### Config"
   ]
  },
  {
   "cell_type": "code",
   "execution_count": 2,
   "metadata": {},
   "outputs": [
    {
     "name": "stdout",
     "output_type": "stream",
     "text": [
      "DATA:\n",
      "  fps: 12\n",
      "  fpv: 24\n",
      "  height: 256\n",
      "  max_objs: 10\n",
      "  path: /home/jonathan/git/diffsim-sysid/data/sets/\n",
      "  set: movi_a\n",
      "  width: 256\n",
      "EVAL:\n",
      "  OUTPUT:\n",
      "    FN:\n",
      "      config: config.yaml\n",
      "      log: log.txt\n",
      "      pred: pred.csv\n",
      "    path: \n",
      "  PARAM:\n",
      "    DENSITY:\n",
      "      include: True\n",
      "      prior: 1.35\n",
      "    FRICTION:\n",
      "      include: True\n",
      "      prior: 0.5\n",
      "    RESTITUTION:\n",
      "      include: True\n",
      "      prior: 0.5\n",
      "SYS_ID:\n",
      "  GEOM:\n",
      "    include: True\n",
      "    spm: 100\n",
      "  OPTIM:\n",
      "    beta1: 0.9\n",
      "    beta2: 0.999\n",
      "    decay: 0.0\n",
      "    lr: 0.01\n",
      "    optim: adam\n",
      "  VIS:\n",
      "    include: True\n",
      "    spp: 4\n",
      "    weight: 1.0\n",
      "  iter: 4\n",
      "  rand: False\n"
     ]
    }
   ],
   "source": [
    "# fill in your directory set up here\n",
    "config_fp = os.path.join(project_dir, f'cfg/templates/comp-movi_a.yaml')\n",
    "cfg.merge_from_file(config_fp)\n",
    "cfg.DATA.path = os.path.join(project_dir, 'data/sets/')\n",
    "print(cfg)"
   ]
  },
  {
   "cell_type": "markdown",
   "metadata": {},
   "source": [
    "### Data"
   ]
  },
  {
   "cell_type": "code",
   "execution_count": 3,
   "metadata": {},
   "outputs": [
    {
     "name": "stderr",
     "output_type": "stream",
     "text": [
      "WARNING:absl:You use TensorFlow DType <dtype: 'float32'> in tfds.features This will soon be deprecated in favor of NumPy DTypes. In the meantime it was converted to float32.\n",
      "WARNING:absl:You use TensorFlow DType <dtype: 'int32'> in tfds.features This will soon be deprecated in favor of NumPy DTypes. In the meantime it was converted to int32.\n",
      "WARNING:absl:You use TensorFlow DType <dtype: 'uint16'> in tfds.features This will soon be deprecated in favor of NumPy DTypes. In the meantime it was converted to uint16.\n",
      "WARNING:absl:You use TensorFlow DType <dtype: 'uint8'> in tfds.features This will soon be deprecated in favor of NumPy DTypes. In the meantime it was converted to uint8.\n",
      "2024-04-05 16:23:21.974329: I tensorflow/compiler/xla/stream_executor/cuda/cuda_gpu_executor.cc:981] successful NUMA node read from SysFS had negative value (-1), but there must be at least one NUMA node, so returning NUMA node zero\n",
      "2024-04-05 16:23:22.000935: I tensorflow/compiler/xla/stream_executor/cuda/cuda_gpu_executor.cc:981] successful NUMA node read from SysFS had negative value (-1), but there must be at least one NUMA node, so returning NUMA node zero\n",
      "2024-04-05 16:23:22.001302: I tensorflow/compiler/xla/stream_executor/cuda/cuda_gpu_executor.cc:981] successful NUMA node read from SysFS had negative value (-1), but there must be at least one NUMA node, so returning NUMA node zero\n",
      "2024-04-05 16:23:22.001920: I tensorflow/core/platform/cpu_feature_guard.cc:193] This TensorFlow binary is optimized with oneAPI Deep Neural Network Library (oneDNN) to use the following CPU instructions in performance-critical operations:  SSE4.1 SSE4.2 AVX AVX2 FMA\n",
      "To enable them in other operations, rebuild TensorFlow with the appropriate compiler flags.\n",
      "2024-04-05 16:23:22.002399: I tensorflow/compiler/xla/stream_executor/cuda/cuda_gpu_executor.cc:981] successful NUMA node read from SysFS had negative value (-1), but there must be at least one NUMA node, so returning NUMA node zero\n",
      "2024-04-05 16:23:22.002736: I tensorflow/compiler/xla/stream_executor/cuda/cuda_gpu_executor.cc:981] successful NUMA node read from SysFS had negative value (-1), but there must be at least one NUMA node, so returning NUMA node zero\n",
      "2024-04-05 16:23:22.002990: I tensorflow/compiler/xla/stream_executor/cuda/cuda_gpu_executor.cc:981] successful NUMA node read from SysFS had negative value (-1), but there must be at least one NUMA node, so returning NUMA node zero\n",
      "2024-04-05 16:23:22.413848: I tensorflow/compiler/xla/stream_executor/cuda/cuda_gpu_executor.cc:981] successful NUMA node read from SysFS had negative value (-1), but there must be at least one NUMA node, so returning NUMA node zero\n",
      "2024-04-05 16:23:22.414166: I tensorflow/compiler/xla/stream_executor/cuda/cuda_gpu_executor.cc:981] successful NUMA node read from SysFS had negative value (-1), but there must be at least one NUMA node, so returning NUMA node zero\n",
      "2024-04-05 16:23:22.414424: I tensorflow/compiler/xla/stream_executor/cuda/cuda_gpu_executor.cc:981] successful NUMA node read from SysFS had negative value (-1), but there must be at least one NUMA node, so returning NUMA node zero\n",
      "2024-04-05 16:23:22.414640: I tensorflow/core/common_runtime/gpu/gpu_device.cc:1613] Created device /job:localhost/replica:0/task:0/device:GPU:0 with 3384 MB memory:  -> device: 0, name: NVIDIA GeForce GTX 1050 Ti with Max-Q Design, pci bus id: 0000:01:00.0, compute capability: 6.1\n",
      "WARNING:absl:`FeatureConnector.dtype` is deprecated. Please change your code to use NumPy with the field `FeatureConnector.np_dtype` or use TensorFlow with the field `FeatureConnector.tf_dtype`.\n",
      "WARNING:absl:`FeatureConnector.dtype` is deprecated. Please change your code to use NumPy with the field `FeatureConnector.np_dtype` or use TensorFlow with the field `FeatureConnector.tf_dtype`.\n",
      "WARNING:absl:`FeatureConnector.dtype` is deprecated. Please change your code to use NumPy with the field `FeatureConnector.np_dtype` or use TensorFlow with the field `FeatureConnector.tf_dtype`.\n",
      "WARNING:absl:`FeatureConnector.dtype` is deprecated. Please change your code to use NumPy with the field `FeatureConnector.np_dtype` or use TensorFlow with the field `FeatureConnector.tf_dtype`.\n",
      "WARNING:absl:`FeatureConnector.dtype` is deprecated. Please change your code to use NumPy with the field `FeatureConnector.np_dtype` or use TensorFlow with the field `FeatureConnector.tf_dtype`.\n"
     ]
    },
    {
     "name": "stdout",
     "output_type": "stream",
     "text": [
      "Video: b'1680', Num objects: 8\n"
     ]
    }
   ],
   "source": [
    "train_ds, ds_info = load_train_data(cfg)\n",
    "sample = next(iter(train_ds))\n",
    "\n",
    "vid_id = sample['metadata']['video_name']\n",
    "obj_count = sample['metadata']['num_instances']\n",
    "print(f'Video: {vid_id}, Num objects: {obj_count}')\n",
    "# print_example(example, ds_info)"
   ]
  },
  {
   "cell_type": "markdown",
   "metadata": {},
   "source": [
    "### Scene"
   ]
  },
  {
   "cell_type": "code",
   "execution_count": 129,
   "metadata": {},
   "outputs": [],
   "source": [
    "# simulation parameters\n",
    "SIM_DURATION = 2.0\n",
    "# control frequency\n",
    "FPS = 12\n",
    "FRAME_DT = 1.0 / float(FPS)\n",
    "FRAME_STEPS = int(SIM_DURATION / FRAME_DT)\n",
    "# sim frequency\n",
    "SIM_FPS = 240\n",
    "SIM_SUBSTEPS = int(SIM_FPS / FPS)\n",
    "SIM_STEPS = FRAME_STEPS * SIM_SUBSTEPS\n",
    "SIM_DT = FRAME_DT / SIM_SUBSTEPS\n",
    "\n",
    "# world parameters\n",
    "UP = (0, 0, 1)\n",
    "GRAVITY = -10.0\n",
    "\n",
    "# contact parameters\n",
    "KE = 1000.0\n",
    "KD = 10.0\n",
    "KF = 10.0"
   ]
  },
  {
   "cell_type": "code",
   "execution_count": 130,
   "metadata": {},
   "outputs": [],
   "source": [
    "# ground parameters\n",
    "CLEVR_GROUND_MU = 0.3\n",
    "CLEVR_GROUND_RESTITUTION = 0.5\n",
    "\n",
    "# object parameters\n",
    "CLEVR_SHAPE_NAMES = (\"cube\", \"cylinder\", \"sphere\")\n",
    "CLEVR_SIZE_NAMES = ('small', 'large')\n",
    "CLEVR_SIZES = (0.7, 1.4)\n",
    "CLEVR_DENSITIES = (2.7, 1.1)\n",
    "\n",
    "CLEVR_SHAPE_OBJ_FPS = {\n",
    "    'cube': os.path.join(project_dir, 'assets', 'cube', 'collision_geometry.obj'),\n",
    "    'cylinder': os.path.join(project_dir, 'assets', 'cylinder', 'collision_geometry.obj'),\n",
    "    'sphere': os.path.join(project_dir, 'assets', 'sphere', 'collision_geometry.obj')\n",
    "}\n",
    "\n",
    "CLEVR_SHAPE_BASE_MASS = {\n",
    "    'cube': 0.9936,\n",
    "    'cylinder': 0.7808,\n",
    "    'sphere': 0.5225\n",
    "}\n",
    "\n",
    "CLEVR_SHAPE_BASE_INERTIA = {\n",
    "    'cube': [\n",
    "        [0.1643, 0.0, 0.0],\n",
    "        [0.0, 0.1643, 0.0],\n",
    "        [0.0, 0.0, 0.1643]\n",
    "    ],\n",
    "    'cylinder': [\n",
    "        [0.1131, 0.0, 0.0],\n",
    "        [0.0, 0.1131, 0.0],\n",
    "        [0.0, 0.0, 0.0971]\n",
    "    ],\n",
    "    'sphere': [\n",
    "        [0.0522, 0.0, 0.0],\n",
    "        [0.0, 0.0522, 0.0],\n",
    "        [0.0, 0.0, 0.0522]\n",
    "    ]\n",
    "}"
   ]
  },
  {
   "cell_type": "markdown",
   "metadata": {},
   "source": [
    "### Physics"
   ]
  },
  {
   "cell_type": "code",
   "execution_count": 131,
   "metadata": {},
   "outputs": [],
   "source": [
    "def build_phys(device, sample):\n",
    "    builder = wps.ModelBuilder(up_vector=wp.vec3(UP), gravity=GRAVITY)\n",
    "\n",
    "    # ground\n",
    "    builder.set_ground_plane(ke=KE, \n",
    "                             kd=KD, \n",
    "                             kf=KF,\n",
    "                             mu=CLEVR_GROUND_MU, \n",
    "                             restitution=CLEVR_GROUND_RESTITUTION)\n",
    "\n",
    "    for obj_idx in range(obj_count):\n",
    "        obj_class_idx = sample['instances']['shape_label'][obj_idx]\n",
    "        obj_class = CLEVR_SHAPE_NAMES[obj_class_idx]\n",
    "\n",
    "        obj_mesh_fp = CLEVR_SHAPE_OBJ_FPS[obj_class]\n",
    "        obj_base_mass = CLEVR_SHAPE_BASE_MASS[obj_class]\n",
    "        obj_base_inertia = CLEVR_SHAPE_BASE_INERTIA[obj_class]\n",
    "\n",
    "        obj_scale_idx = sample['instances']['size_label'][obj_idx]\n",
    "        obj_scale = [CLEVR_SIZES[obj_scale_idx]] * 3\n",
    "\n",
    "        obj_pos = sample['instances']['positions'][obj_idx][0]\n",
    "        obj_rot = sample['instances']['quaternions'][obj_idx][0]\n",
    "        # w,i,j,k -> i,j,k,w\n",
    "        obj_rot = np.concatenate([obj_rot[1:], obj_rot[:1]])\n",
    "\n",
    "        obj_lin_vel = sample['instances']['velocities'][obj_idx][0]\n",
    "        obj_ang_vel = sample['instances']['angular_velocities'][obj_idx][0]\n",
    "\n",
    "        obj_fric = sample['instances']['friction'][obj_idx]\n",
    "        obj_restitution = sample['instances']['restitution'][obj_idx]\n",
    "\n",
    "        obj_material = sample['instances']['material_label'][obj_idx]\n",
    "        obj_density = CLEVR_DENSITIES[obj_material]\n",
    "\n",
    "\n",
    "        # read mesh\n",
    "        m = openmesh.read_trimesh(obj_mesh_fp)\n",
    "        mesh_points = np.array(m.points())\n",
    "        mesh_indices = np.array(m.face_vertex_indices(), dtype=np.int32).flatten()\n",
    "        mesh = wps.Mesh(vertices=mesh_points, \n",
    "                        indices=mesh_indices,\n",
    "                        compute_inertia=False,\n",
    "                        is_solid=True)\n",
    "        mesh.has_inertia = True\n",
    "        mesh.I = wp.mat33(obj_base_inertia)\n",
    "        mesh.mass = obj_base_mass\n",
    "\n",
    "        # add body\n",
    "        obj_body_q = wp.transform(obj_pos, obj_rot)\n",
    "        obj_body_id = builder.add_body(origin=obj_body_q, name = f'obj_{obj_idx}')\n",
    "\n",
    "        # add mesh to body\n",
    "        builder.add_shape_mesh(body=obj_body_id,\n",
    "                                    mesh=mesh,\n",
    "                                    scale=obj_scale,\n",
    "                                    density=obj_density,\n",
    "                                    mu=obj_fric,\n",
    "                                    ke=KE,\n",
    "                                    kd=KD,\n",
    "                                    kf=KF,\n",
    "                                    restitution=obj_restitution,\n",
    "                                    is_solid=True,\n",
    "                                    has_ground_collision=True)\n",
    "        \n",
    "        obj_body_qd = np.concatenate([obj_ang_vel, obj_lin_vel]).tolist()\n",
    "        builder.body_qd[obj_body_id] = obj_body_qd\n",
    "\n",
    "    # model and states\n",
    "    model = builder.finalize(device, requires_grad=False)\n",
    "    states = [model.state(requires_grad=False) for _ in range(SIM_STEPS+1)]\n",
    "\n",
    "    return model, states\n",
    "        \n",
    "\n",
    "def run_phys(model, integrator, states):\n",
    "    # computation graph\n",
    "    tape = wp.Tape()\n",
    "    with tape:\n",
    "        for i in range(SIM_STEPS):\n",
    "            states[i].clear_forces()\n",
    "            wp.sim.collide(model, states[i])\n",
    "            integrator.simulate(model, states[i], states[i + 1], SIM_DT)\n",
    "\n",
    "    return tape"
   ]
  },
  {
   "cell_type": "code",
   "execution_count": 132,
   "metadata": {},
   "outputs": [
    {
     "name": "stderr",
     "output_type": "stream",
     "text": [
      "100%|██████████| 481/481 [00:01<00:00, 459.00it/s]"
     ]
    },
    {
     "name": "stdout",
     "output_type": "stream",
     "text": [
      "Saved the USD stage file at `/home/jonathan/git/diffsim-sysid/examples/physics/movi_a-b'1680'.usd`\n"
     ]
    },
    {
     "name": "stderr",
     "output_type": "stream",
     "text": [
      "\n"
     ]
    }
   ],
   "source": [
    "phys_device = wp.get_cuda_device()\n",
    "phys_model, phys_states = build_phys(phys_device, sample)\n",
    "phys_integrator = wp.sim.SemiImplicitIntegrator()\n",
    "phys_tape = run_phys(phys_model, phys_integrator, phys_states)\n",
    "\n",
    "#phys_stage = f'movi_a-{vid_id}.usd'\n",
    "#render_usd(phys_stage, phys_model, phys_states, SIM_DURATION, SIM_DT)"
   ]
  },
  {
   "cell_type": "code",
   "execution_count": null,
   "metadata": {},
   "outputs": [],
   "source": []
  },
  {
   "cell_type": "code",
   "execution_count": null,
   "metadata": {},
   "outputs": [],
   "source": []
  },
  {
   "cell_type": "code",
   "execution_count": null,
   "metadata": {},
   "outputs": [],
   "source": []
  }
 ],
 "metadata": {
  "kernelspec": {
   "display_name": "warp",
   "language": "python",
   "name": "python3"
  },
  "language_info": {
   "codemirror_mode": {
    "name": "ipython",
    "version": 3
   },
   "file_extension": ".py",
   "mimetype": "text/x-python",
   "name": "python",
   "nbconvert_exporter": "python",
   "pygments_lexer": "ipython3",
   "version": "3.10.13"
  }
 },
 "nbformat": 4,
 "nbformat_minor": 2
}
