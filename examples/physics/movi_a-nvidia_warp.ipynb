{
 "cells": [
  {
   "cell_type": "code",
   "execution_count": null,
   "metadata": {},
   "outputs": [],
   "source": [
    "# project\n",
    "import os\n",
    "import sys \n",
    "project_dir = os.path.join(os.path.expanduser('~'), 'git', 'diffsim-sysid')\n",
    "sys.path.insert(1, project_dir)\n",
    "# math\n",
    "import numpy as np\n",
    "# physics\n",
    "import openmesh\n",
    "import warp as wp\n",
    "import warp.sim as wps\n",
    "from src.warp_utils import render_usd\n",
    "# config\n",
    "from src.config import cfg\n",
    "# dataset\n",
    "from src.dataset import load_train_data\n",
    "from src.data.visualize import print_example\n",
    "\n",
    "# setup\n",
    "wp.init()"
   ]
  },
  {
   "cell_type": "markdown",
   "metadata": {},
   "source": [
    "### Config"
   ]
  },
  {
   "cell_type": "code",
   "execution_count": null,
   "metadata": {},
   "outputs": [],
   "source": [
    "# fill in your directory set up here\n",
    "config_fp = os.path.join(project_dir, f'cfg/templates/comp-movi_a.yaml')\n",
    "cfg.merge_from_file(config_fp)\n",
    "cfg.DATA.path = os.path.join(project_dir, 'data/sets/')\n",
    "print(cfg)"
   ]
  },
  {
   "cell_type": "markdown",
   "metadata": {},
   "source": [
    "### Data"
   ]
  },
  {
   "cell_type": "code",
   "execution_count": null,
   "metadata": {},
   "outputs": [],
   "source": [
    "train_ds, ds_info = load_train_data(cfg)\n",
    "sample = next(iter(train_ds))\n",
    "\n",
    "vid_id = sample['metadata']['video_name']\n",
    "obj_count = sample['metadata']['num_instances']\n",
    "print(f'Video: {vid_id}, Num objects: {obj_count}')\n",
    "# print_example(example, ds_info)"
   ]
  },
  {
   "cell_type": "markdown",
   "metadata": {},
   "source": [
    "### Scene"
   ]
  },
  {
   "cell_type": "code",
   "execution_count": null,
   "metadata": {},
   "outputs": [],
   "source": [
    "# simulation parameters\n",
    "SIM_DURATION = 2.0\n",
    "# control frequency\n",
    "FPS = 12\n",
    "FRAME_DT = 1.0 / float(FPS)\n",
    "FRAME_STEPS = int(SIM_DURATION / FRAME_DT)\n",
    "# sim frequency\n",
    "SIM_FPS = 240\n",
    "SIM_SUBSTEPS = int(SIM_FPS / FPS)\n",
    "SIM_STEPS = FRAME_STEPS * SIM_SUBSTEPS\n",
    "SIM_DT = FRAME_DT / SIM_SUBSTEPS\n",
    "\n",
    "# world parameters\n",
    "UP = (0, 0, 1)\n",
    "GRAVITY = -10.0\n",
    "\n",
    "# contact parameters\n",
    "KE = 1000.0\n",
    "KD = 50.0\n",
    "KF = 50.0"
   ]
  },
  {
   "cell_type": "code",
   "execution_count": null,
   "metadata": {},
   "outputs": [],
   "source": [
    "# ground parameters\n",
    "CLEVR_GROUND_MU = 0.3\n",
    "CLEVR_GROUND_RESTITUTION = 0.5\n",
    "\n",
    "# object parameters\n",
    "CLEVR_SHAPE_NAMES = (\"cube\", \"cylinder\", \"sphere\")\n",
    "CLEVR_SIZE_NAMES = ('small', 'large')\n",
    "CLEVR_SIZES = (0.7, 1.4)\n",
    "CLEVR_DENSITIES = (2.7, 1.1)\n",
    "\n",
    "CLEVR_SHAPE_OBJ_FPS = {\n",
    "    'cube': os.path.join(project_dir, 'assets', 'cube', 'collision_geometry.obj'),\n",
    "    'cylinder': os.path.join(project_dir, 'assets', 'cylinder', 'collision_geometry.obj'),\n",
    "    'sphere': os.path.join(project_dir, 'assets', 'sphere', 'collision_geometry.obj')\n",
    "}\n",
    "\n",
    "CLEVR_SHAPE_BASE_MASS = {\n",
    "    'cube': 0.9936,\n",
    "    'cylinder': 0.7808,\n",
    "    'sphere': 0.5225\n",
    "}\n",
    "\n",
    "CLEVR_SHAPE_BASE_INERTIA = {\n",
    "    'cube': [\n",
    "        [0.1643, 0.0, 0.0],\n",
    "        [0.0, 0.1643, 0.0],\n",
    "        [0.0, 0.0, 0.1643]\n",
    "    ],\n",
    "    'cylinder': [\n",
    "        [0.1131, 0.0, 0.0],\n",
    "        [0.0, 0.1131, 0.0],\n",
    "        [0.0, 0.0, 0.0971]\n",
    "    ],\n",
    "    'sphere': [\n",
    "        [0.0522, 0.0, 0.0],\n",
    "        [0.0, 0.0522, 0.0],\n",
    "        [0.0, 0.0, 0.0522]\n",
    "    ]\n",
    "}"
   ]
  },
  {
   "cell_type": "markdown",
   "metadata": {},
   "source": [
    "### Physics"
   ]
  },
  {
   "cell_type": "code",
   "execution_count": null,
   "metadata": {},
   "outputs": [],
   "source": [
    "def build_phys(device, sample):\n",
    "    builder = wps.ModelBuilder(up_vector=wp.vec3(UP), gravity=GRAVITY)\n",
    "\n",
    "    # ground\n",
    "    builder.set_ground_plane(ke=KE, \n",
    "                             kd=KD, \n",
    "                             kf=KF,\n",
    "                             mu=CLEVR_GROUND_MU, \n",
    "                             restitution=CLEVR_GROUND_RESTITUTION)\n",
    "\n",
    "    for obj_idx in range(obj_count):\n",
    "        obj_class_idx = sample['instances']['shape_label'][obj_idx]\n",
    "        obj_class = CLEVR_SHAPE_NAMES[obj_class_idx]\n",
    "\n",
    "        obj_mesh_fp = CLEVR_SHAPE_OBJ_FPS[obj_class]\n",
    "        obj_base_mass = CLEVR_SHAPE_BASE_MASS[obj_class]\n",
    "        obj_base_inertia = CLEVR_SHAPE_BASE_INERTIA[obj_class]\n",
    "\n",
    "        obj_scale_idx = sample['instances']['size_label'][obj_idx]\n",
    "        obj_scale = [CLEVR_SIZES[obj_scale_idx]] * 3\n",
    "\n",
    "        obj_pos = sample['instances']['positions'][obj_idx][0]\n",
    "        obj_rot = sample['instances']['quaternions'][obj_idx][0]\n",
    "        # w,i,j,k -> i,j,k,w\n",
    "        obj_rot = np.concatenate([obj_rot[1:], obj_rot[:1]])\n",
    "\n",
    "        obj_lin_vel = sample['instances']['velocities'][obj_idx][0]\n",
    "        obj_ang_vel = sample['instances']['angular_velocities'][obj_idx][0]\n",
    "\n",
    "        obj_fric = sample['instances']['friction'][obj_idx]\n",
    "        obj_restitution = sample['instances']['restitution'][obj_idx]\n",
    "\n",
    "        obj_material = sample['instances']['material_label'][obj_idx]\n",
    "        obj_density = CLEVR_DENSITIES[obj_material]\n",
    "\n",
    "\n",
    "        # read mesh\n",
    "        m = openmesh.read_trimesh(obj_mesh_fp)\n",
    "        mesh_points = np.array(m.points())\n",
    "        mesh_indices = np.array(m.face_vertex_indices(), dtype=np.int32).flatten()\n",
    "        mesh = wps.Mesh(vertices=mesh_points, \n",
    "                        indices=mesh_indices,\n",
    "                        compute_inertia=False,\n",
    "                        is_solid=True)\n",
    "        mesh.has_inertia = True\n",
    "        mesh.I = wp.mat33(obj_base_inertia)\n",
    "        mesh.mass = obj_base_mass\n",
    "\n",
    "        # add body\n",
    "        obj_body_q = wp.transform(obj_pos, obj_rot)\n",
    "        obj_body_id = builder.add_body(origin=obj_body_q, name = f'obj_{obj_idx}')\n",
    "\n",
    "        # add mesh to body\n",
    "        builder.add_shape_mesh(body=obj_body_id,\n",
    "                                    mesh=mesh,\n",
    "                                    scale=obj_scale,\n",
    "                                    density=obj_density,\n",
    "                                    mu=obj_fric,\n",
    "                                    ke=KE,\n",
    "                                    kd=KD,\n",
    "                                    kf=KF,\n",
    "                                    restitution=obj_restitution,\n",
    "                                    is_solid=True,\n",
    "                                    has_ground_collision=True)\n",
    "        \n",
    "        obj_body_qd = np.concatenate([obj_ang_vel, obj_lin_vel]).tolist()\n",
    "        builder.body_qd[obj_body_id] = obj_body_qd\n",
    "\n",
    "    # model and states\n",
    "    model = builder.finalize(device, requires_grad=False)\n",
    "    states = [model.state(requires_grad=False) for _ in range(SIM_STEPS+1)]\n",
    "\n",
    "    return model, states\n",
    "        \n",
    "\n",
    "def run_phys(model, integrator, states):\n",
    "    # computation graph\n",
    "    tape = wp.Tape()\n",
    "    with tape:\n",
    "        for i in range(SIM_STEPS):\n",
    "            states[i].clear_forces()\n",
    "            wp.sim.collide(model, states[i])\n",
    "            integrator.simulate(model, states[i], states[i + 1], SIM_DT)\n",
    "\n",
    "    return tape"
   ]
  },
  {
   "cell_type": "code",
   "execution_count": null,
   "metadata": {},
   "outputs": [],
   "source": [
    "phys_device = wp.get_cuda_device()\n",
    "phys_model, phys_states = build_phys(phys_device, sample)\n",
    "phys_integrator = wp.sim.SemiImplicitIntegrator()\n",
    "phys_tape = run_phys(phys_model, phys_integrator, phys_states)\n",
    "\n",
    "phys_stage = f'movi_a-{vid_id}.usd'\n",
    "render_usd(phys_stage, phys_model, phys_states, SIM_DURATION, SIM_DT)"
   ]
  },
  {
   "cell_type": "code",
   "execution_count": null,
   "metadata": {},
   "outputs": [],
   "source": []
  },
  {
   "cell_type": "code",
   "execution_count": null,
   "metadata": {},
   "outputs": [],
   "source": []
  },
  {
   "cell_type": "code",
   "execution_count": null,
   "metadata": {},
   "outputs": [],
   "source": []
  }
 ],
 "metadata": {
  "kernelspec": {
   "display_name": "warp",
   "language": "python",
   "name": "python3"
  },
  "language_info": {
   "codemirror_mode": {
    "name": "ipython",
    "version": 3
   },
   "file_extension": ".py",
   "mimetype": "text/x-python",
   "name": "python",
   "nbconvert_exporter": "python",
   "pygments_lexer": "ipython3",
   "version": "3.10.13"
  }
 },
 "nbformat": 4,
 "nbformat_minor": 2
}
