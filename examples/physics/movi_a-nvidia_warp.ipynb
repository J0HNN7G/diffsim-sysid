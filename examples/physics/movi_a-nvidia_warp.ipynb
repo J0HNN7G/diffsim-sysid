{
 "cells": [
  {
   "cell_type": "code",
   "execution_count": 1,
   "metadata": {},
   "outputs": [
    {
     "name": "stderr",
     "output_type": "stream",
     "text": [
      "2024-04-03 18:58:51.866610: I tensorflow/core/platform/cpu_feature_guard.cc:193] This TensorFlow binary is optimized with oneAPI Deep Neural Network Library (oneDNN) to use the following CPU instructions in performance-critical operations:  SSE4.1 SSE4.2 AVX AVX2 FMA\n",
      "To enable them in other operations, rebuild TensorFlow with the appropriate compiler flags.\n"
     ]
    },
    {
     "name": "stdout",
     "output_type": "stream",
     "text": [
      "Warp 1.0.2 initialized:\n",
      "   CUDA Toolkit 11.5, Driver 11.4\n",
      "   Devices:\n",
      "     \"cpu\"      : \"x86_64\"\n",
      "     \"cuda:0\"   : \"NVIDIA GeForce GTX 1050 Ti with Max-Q Design\" (4 GiB, sm_61, mempool enabled)\n",
      "   Kernel cache:\n",
      "     /home/jonathan/.cache/warp/1.0.2\n"
     ]
    }
   ],
   "source": [
    "# project\n",
    "import os\n",
    "import sys \n",
    "project_dir = os.path.join(os.path.expanduser('~'), 'git', 'diffsim-sysid')\n",
    "sys.path.insert(1, project_dir)\n",
    "# math\n",
    "import numpy as np\n",
    "import torch\n",
    "import pytorch3d\n",
    "import pytorch3d.transforms\n",
    "# physics\n",
    "import warp as wp\n",
    "import warp.sim as wps\n",
    "# plots\n",
    "import matplotlib as mpl\n",
    "from matplotlib import pyplot as plt\n",
    "from src.plot import set_fig_size, set_mpl_format\n",
    "# config\n",
    "from src.config import cfg\n",
    "# dataset\n",
    "from src.dataset import load_train_data\n",
    "from src.data.visualize import print_example\n",
    "\n",
    "# setup\n",
    "set_mpl_format()\n",
    "wp.init()"
   ]
  },
  {
   "cell_type": "markdown",
   "metadata": {},
   "source": [
    "### Config"
   ]
  },
  {
   "cell_type": "code",
   "execution_count": 2,
   "metadata": {},
   "outputs": [
    {
     "name": "stdout",
     "output_type": "stream",
     "text": [
      "DATA:\n",
      "  fps: 12\n",
      "  fpv: 24\n",
      "  height: 256\n",
      "  max_objs: 10\n",
      "  path: /home/jonathan/git/diffsim-sysid/data/sets/\n",
      "  set: movi_a\n",
      "  width: 256\n",
      "EVAL:\n",
      "  OUTPUT:\n",
      "    FN:\n",
      "      config: config.yaml\n",
      "      log: log.txt\n",
      "      pred: pred.csv\n",
      "    path: \n",
      "  PARAM:\n",
      "    DENSITY:\n",
      "      include: True\n",
      "      prior: 1.35\n",
      "    FRICTION:\n",
      "      include: True\n",
      "      prior: 0.5\n",
      "    RESTITUTION:\n",
      "      include: True\n",
      "      prior: 0.5\n",
      "SYS_ID:\n",
      "  GEOM:\n",
      "    include: True\n",
      "    spm: 100\n",
      "  OPTIM:\n",
      "    beta1: 0.9\n",
      "    beta2: 0.999\n",
      "    decay: 0.0\n",
      "    lr: 0.01\n",
      "    optim: adam\n",
      "  VIS:\n",
      "    include: True\n",
      "    spp: 4\n",
      "    weight: 1.0\n",
      "  iter: 4\n",
      "  rand: False\n"
     ]
    }
   ],
   "source": [
    "# fill in your directory set up here\n",
    "config_fp = os.path.join(project_dir, f'cfg/templates/comp-movi_a.yaml')\n",
    "cfg.merge_from_file(config_fp)\n",
    "cfg.DATA.path = os.path.join(project_dir, 'data/sets/')\n",
    "print(cfg)"
   ]
  },
  {
   "cell_type": "markdown",
   "metadata": {},
   "source": [
    "### Data"
   ]
  },
  {
   "cell_type": "code",
   "execution_count": 3,
   "metadata": {},
   "outputs": [
    {
     "name": "stderr",
     "output_type": "stream",
     "text": [
      "WARNING:absl:You use TensorFlow DType <dtype: 'float32'> in tfds.features This will soon be deprecated in favor of NumPy DTypes. In the meantime it was converted to float32.\n",
      "WARNING:absl:You use TensorFlow DType <dtype: 'int32'> in tfds.features This will soon be deprecated in favor of NumPy DTypes. In the meantime it was converted to int32.\n",
      "WARNING:absl:You use TensorFlow DType <dtype: 'uint16'> in tfds.features This will soon be deprecated in favor of NumPy DTypes. In the meantime it was converted to uint16.\n",
      "WARNING:absl:You use TensorFlow DType <dtype: 'uint8'> in tfds.features This will soon be deprecated in favor of NumPy DTypes. In the meantime it was converted to uint8.\n",
      "2024-04-03 18:58:54.988100: I tensorflow/compiler/xla/stream_executor/cuda/cuda_gpu_executor.cc:981] successful NUMA node read from SysFS had negative value (-1), but there must be at least one NUMA node, so returning NUMA node zero\n",
      "2024-04-03 18:58:55.001489: I tensorflow/compiler/xla/stream_executor/cuda/cuda_gpu_executor.cc:981] successful NUMA node read from SysFS had negative value (-1), but there must be at least one NUMA node, so returning NUMA node zero\n",
      "2024-04-03 18:58:55.001936: I tensorflow/compiler/xla/stream_executor/cuda/cuda_gpu_executor.cc:981] successful NUMA node read from SysFS had negative value (-1), but there must be at least one NUMA node, so returning NUMA node zero\n",
      "2024-04-03 18:58:55.003622: I tensorflow/core/platform/cpu_feature_guard.cc:193] This TensorFlow binary is optimized with oneAPI Deep Neural Network Library (oneDNN) to use the following CPU instructions in performance-critical operations:  SSE4.1 SSE4.2 AVX AVX2 FMA\n",
      "To enable them in other operations, rebuild TensorFlow with the appropriate compiler flags.\n",
      "2024-04-03 18:58:55.004187: I tensorflow/compiler/xla/stream_executor/cuda/cuda_gpu_executor.cc:981] successful NUMA node read from SysFS had negative value (-1), but there must be at least one NUMA node, so returning NUMA node zero\n",
      "2024-04-03 18:58:55.004500: I tensorflow/compiler/xla/stream_executor/cuda/cuda_gpu_executor.cc:981] successful NUMA node read from SysFS had negative value (-1), but there must be at least one NUMA node, so returning NUMA node zero\n",
      "2024-04-03 18:58:55.004783: I tensorflow/compiler/xla/stream_executor/cuda/cuda_gpu_executor.cc:981] successful NUMA node read from SysFS had negative value (-1), but there must be at least one NUMA node, so returning NUMA node zero\n",
      "2024-04-03 18:58:57.443387: I tensorflow/compiler/xla/stream_executor/cuda/cuda_gpu_executor.cc:981] successful NUMA node read from SysFS had negative value (-1), but there must be at least one NUMA node, so returning NUMA node zero\n",
      "2024-04-03 18:58:57.443644: I tensorflow/compiler/xla/stream_executor/cuda/cuda_gpu_executor.cc:981] successful NUMA node read from SysFS had negative value (-1), but there must be at least one NUMA node, so returning NUMA node zero\n",
      "2024-04-03 18:58:57.443866: I tensorflow/compiler/xla/stream_executor/cuda/cuda_gpu_executor.cc:981] successful NUMA node read from SysFS had negative value (-1), but there must be at least one NUMA node, so returning NUMA node zero\n",
      "2024-04-03 18:58:57.444081: I tensorflow/core/common_runtime/gpu/gpu_device.cc:1613] Created device /job:localhost/replica:0/task:0/device:GPU:0 with 3046 MB memory:  -> device: 0, name: NVIDIA GeForce GTX 1050 Ti with Max-Q Design, pci bus id: 0000:01:00.0, compute capability: 6.1\n",
      "WARNING:absl:`FeatureConnector.dtype` is deprecated. Please change your code to use NumPy with the field `FeatureConnector.np_dtype` or use TensorFlow with the field `FeatureConnector.tf_dtype`.\n",
      "WARNING:absl:`FeatureConnector.dtype` is deprecated. Please change your code to use NumPy with the field `FeatureConnector.np_dtype` or use TensorFlow with the field `FeatureConnector.tf_dtype`.\n",
      "WARNING:absl:`FeatureConnector.dtype` is deprecated. Please change your code to use NumPy with the field `FeatureConnector.np_dtype` or use TensorFlow with the field `FeatureConnector.tf_dtype`.\n",
      "WARNING:absl:`FeatureConnector.dtype` is deprecated. Please change your code to use NumPy with the field `FeatureConnector.np_dtype` or use TensorFlow with the field `FeatureConnector.tf_dtype`.\n",
      "WARNING:absl:`FeatureConnector.dtype` is deprecated. Please change your code to use NumPy with the field `FeatureConnector.np_dtype` or use TensorFlow with the field `FeatureConnector.tf_dtype`.\n"
     ]
    }
   ],
   "source": [
    "train_ds, ds_info = load_train_data(cfg)\n",
    "example = next(iter(train_ds))"
   ]
  },
  {
   "cell_type": "code",
   "execution_count": 4,
   "metadata": {},
   "outputs": [
    {
     "name": "stdout",
     "output_type": "stream",
     "text": [
      "Video: b'1680', Num objects: 8\n"
     ]
    }
   ],
   "source": [
    "vid_id = example['metadata']['video_name']\n",
    "obj_count = example['metadata']['num_instances']\n",
    "print(f'Video: {vid_id}, Num objects: {obj_count}')"
   ]
  },
  {
   "cell_type": "code",
   "execution_count": 6,
   "metadata": {},
   "outputs": [
    {
     "data": {
      "text/plain": [
       "(8, 24, 3)"
      ]
     },
     "execution_count": 6,
     "metadata": {},
     "output_type": "execute_result"
    }
   ],
   "source": [
    "example['instances']['velocities'].shape"
   ]
  },
  {
   "cell_type": "code",
   "execution_count": 7,
   "metadata": {},
   "outputs": [
    {
     "data": {
      "text/plain": [
       "dict_keys(['angular_velocities', 'bbox_frames', 'bboxes', 'bboxes_3d', 'color', 'color_label', 'friction', 'image_positions', 'mass', 'material_label', 'positions', 'quaternions', 'restitution', 'shape_label', 'size_label', 'velocities', 'visibility'])"
      ]
     },
     "execution_count": 7,
     "metadata": {},
     "output_type": "execute_result"
    }
   ],
   "source": [
    "example['instances'].keys()"
   ]
  },
  {
   "cell_type": "markdown",
   "metadata": {},
   "source": [
    "### Scene"
   ]
  },
  {
   "cell_type": "code",
   "execution_count": 5,
   "metadata": {},
   "outputs": [],
   "source": [
    "# simulation parameters\n",
    "sim_duration = 1.0\n",
    "# control frequency\n",
    "fps = 12\n",
    "frame_dt = 1.0 / float(fps)\n",
    "frame_steps = int(sim_duration / frame_dt)\n",
    "# sim frequency\n",
    "sim_substeps = 8 * 5\n",
    "sim_steps = frame_steps * sim_substeps\n",
    "sim_dt = frame_dt / sim_substeps"
   ]
  },
  {
   "cell_type": "markdown",
   "metadata": {},
   "source": [
    "### Physics"
   ]
  },
  {
   "cell_type": "code",
   "execution_count": 6,
   "metadata": {},
   "outputs": [
    {
     "name": "stdout",
     "output_type": "stream",
     "text": [
      "Warp DeprecationWarning: Support for built-in functions called with non-Warp array types, such as lists, tuples, NumPy arrays, and others, will be dropped in the future. Use a Warp type such as `wp.vec`, `wp.mat`, `wp.quat`, or `wp.transform`.\n",
      "Module warp.sim.collide load on device 'cuda:0' took 99.37 ms\n"
     ]
    }
   ],
   "source": [
    "CLEVR_SHAPE_NAMES = (\"cube\", \"cylinder\", \"sphere\")\n",
    "CLEVR_SIZE_NAMES = ('small', 'large')\n",
    "CLEVR_SIZES = (0.7, 1.4)\n",
    "CLEVR_DENSITIES = (1.1, 2.7)\n",
    "\n",
    "phys_device = wp.get_cuda_device()\n",
    "phys_builder = wps.ModelBuilder(up_vector=(0, 0, 1))\n",
    "\n",
    "ground_mu = 0.3\n",
    "ground_restitution = 0.5\n",
    "\n",
    "# ground\n",
    "phys_builder.set_ground_plane(mu=ground_mu, \n",
    "                              restitution=ground_restitution)\n",
    "\n",
    "for obj_idx in range(obj_count):\n",
    "    obj_class_idx = example['instances']['shape_label'][obj_idx]\n",
    "    obj_class = CLEVR_SHAPE_NAMES[obj_class_idx]\n",
    "    \n",
    "    obj_scale_idx = example['instances']['size_label'][obj_idx]\n",
    "    obj_scale = CLEVR_SIZES[obj_scale_idx] / 2.0\n",
    "    obj_pos = example['instances']['positions'][obj_idx][0]\n",
    "    obj_ori = example['instances']['quaternions'][obj_idx][0]\n",
    "\n",
    "    obj_vel = example['instances']['velocities'][obj_idx][0]\n",
    "\n",
    "    obj_material = example['instances']['material_label'][obj_idx]\n",
    "    obj_density = CLEVR_DENSITIES[obj_material]\n",
    "\n",
    "    obj_mass = float(example['instances']['mass'][obj_idx])\n",
    "    obj_fric = example['instances']['friction'][obj_idx]\n",
    "    obj_restitution = example['instances']['restitution'][obj_idx]\n",
    "\n",
    "    phys_builder.add_particle(\n",
    "        pos=obj_pos,\n",
    "        vel=obj_vel,\n",
    "        radius=obj_scale,\n",
    "        mass=obj_mass,\n",
    "        \n",
    "    )\n",
    "\n",
    "phys_model = phys_builder.finalize(phys_device, requires_grad=False)\n",
    "\n",
    "phys_states = [phys_model.state(requires_grad=False) for _ in range(sim_steps + 1)]"
   ]
  },
  {
   "cell_type": "code",
   "execution_count": 8,
   "metadata": {},
   "outputs": [],
   "source": [
    "def capture_phys(device, model, integrator, states):\n",
    "    # tape tracks computation graph\n",
    "    tape = wp.Tape()\n",
    "    wp.capture_begin(device=device)\n",
    "    with tape:\n",
    "        for i in range(sim_steps):\n",
    "            states[i].clear_forces()\n",
    "            wp.sim.collide(model, states[i])\n",
    "            integrator.simulate(model, states[i], states[i + 1], sim_dt)\n",
    "    graph = wp.capture_end()\n",
    "\n",
    "    return graph, tape\n",
    "\n",
    "\n",
    "def get_trajectory(states):\n",
    "    trajectory = []\n",
    "    for state in states[::sim_substeps]:\n",
    "        trajectory.append(state.particle_q.numpy().squeeze())\n",
    "    return np.array(trajectory)\n",
    "\n",
    "\n",
    "def distance(target_pose, pred_pose):\n",
    "    return torch.linalg.norm(target_pose - pred_pose)"
   ]
  },
  {
   "cell_type": "code",
   "execution_count": 9,
   "metadata": {},
   "outputs": [
    {
     "name": "stdout",
     "output_type": "stream",
     "text": [
      "Module warp.utils load on device 'cuda:0' took 15.55 ms\n",
      "Module warp.sim.inertia load on device 'cuda:0' took 10.87 ms\n",
      "Module warp.sim.model load on device 'cuda:0' took 0.19 ms\n",
      "Module warp.sim.integrator load on device 'cuda:0' took 7.98 ms\n",
      "Module warp.sim.particles load on device 'cuda:0' took 2.75 ms\n",
      "Module warp.sim.utils load on device 'cuda:0' took 14.29 ms\n",
      "Module warp.sim.integrator_euler load on device 'cuda:0' took 222.88 ms\n",
      "Module warp.sim.articulation load on device 'cuda:0' took 38.44 ms\n",
      "Module warp.sim.integrator_featherstone load on device 'cuda:0' took 76.27 ms\n",
      "Module warp.sim.integrator_xpbd load on device 'cuda:0' took 148.89 ms\n"
     ]
    }
   ],
   "source": [
    "# initial run \n",
    "phys_integrator = wp.sim.SemiImplicitIntegrator()\n",
    "phys_graph, phys_tape = capture_phys(phys_device, phys_model, phys_integrator, phys_states)\n",
    "wp.capture_launch(phys_graph)"
   ]
  },
  {
   "cell_type": "code",
   "execution_count": 21,
   "metadata": {},
   "outputs": [
    {
     "name": "stdout",
     "output_type": "stream",
     "text": [
      "(8, 24, 3)\n",
      "(8, 24, 4)\n",
      "(8, 7)\n",
      "(8, 7)\n",
      "(8, 7)\n",
      "(8, 7)\n",
      "(8, 7)\n",
      "(8, 7)\n",
      "(8, 7)\n",
      "(8, 7)\n",
      "(8, 7)\n"
     ]
    },
    {
     "ename": "IndexError",
     "evalue": "index 8 is out of bounds for axis 0 with size 8",
     "output_type": "error",
     "traceback": [
      "\u001b[0;31m---------------------------------------------------------------------------\u001b[0m",
      "\u001b[0;31mIndexError\u001b[0m                                Traceback (most recent call last)",
      "Cell \u001b[0;32mIn[21], line 9\u001b[0m\n\u001b[1;32m      7\u001b[0m pos_ori \u001b[38;5;241m=\u001b[39m phys_states[i]\u001b[38;5;241m.\u001b[39mbody_q\u001b[38;5;241m.\u001b[39mnumpy()\n\u001b[1;32m      8\u001b[0m \u001b[38;5;28mprint\u001b[39m(pos_ori\u001b[38;5;241m.\u001b[39mshape)\n\u001b[0;32m----> 9\u001b[0m positions[i] \u001b[38;5;241m=\u001b[39m \u001b[43mpos_ori\u001b[49m\u001b[43m[\u001b[49m\u001b[43mi\u001b[49m\u001b[43m,\u001b[49m\u001b[43m \u001b[49m\u001b[43m:\u001b[49m\u001b[38;5;241;43m3\u001b[39;49m\u001b[43m]\u001b[49m\n\u001b[1;32m     10\u001b[0m quaternions[i] \u001b[38;5;241m=\u001b[39m pos_ori[i, \u001b[38;5;241m3\u001b[39m:]\n",
      "\u001b[0;31mIndexError\u001b[0m: index 8 is out of bounds for axis 0 with size 8"
     ]
    }
   ],
   "source": [
    "positions = np.zeros_like(example['instances']['positions'])\n",
    "quaternions = np.zeros_like(example['instances']['quaternions'])\n",
    "\n",
    "for i in range(len(phys_states)):\n",
    "    pos_ori = phys_states[i].body_q.numpy()\n",
    "    positions[i] = pos_ori[i, :3]\n",
    "    quaternions[i] = pos_ori[i, 3:]"
   ]
  },
  {
   "cell_type": "code",
   "execution_count": 23,
   "metadata": {},
   "outputs": [
    {
     "data": {
      "text/plain": [
       "(6, 7)"
      ]
     },
     "execution_count": 23,
     "metadata": {},
     "output_type": "execute_result"
    }
   ],
   "source": [
    "phys_states[0].body_q.numpy()[:, :3]"
   ]
  },
  {
   "cell_type": "code",
   "execution_count": 19,
   "metadata": {},
   "outputs": [
    {
     "data": {
      "text/plain": [
       "(8, 24, 3)"
      ]
     },
     "execution_count": 19,
     "metadata": {},
     "output_type": "execute_result"
    }
   ],
   "source": [
    "example['instances']['positions'].shape"
   ]
  },
  {
   "cell_type": "code",
   "execution_count": 20,
   "metadata": {},
   "outputs": [
    {
     "data": {
      "text/plain": [
       "(8, 24, 4)"
      ]
     },
     "execution_count": 20,
     "metadata": {},
     "output_type": "execute_result"
    }
   ],
   "source": [
    "example['instances']['quaternions'].shape"
   ]
  },
  {
   "cell_type": "code",
   "execution_count": null,
   "metadata": {},
   "outputs": [],
   "source": [
    "phys_states[0].body_q.numpy()[0][:3]"
   ]
  },
  {
   "cell_type": "code",
   "execution_count": null,
   "metadata": {},
   "outputs": [],
   "source": [
    "phys_states[-1].body_q.numpy()[:, 2]"
   ]
  }
 ],
 "metadata": {
  "kernelspec": {
   "display_name": "warp",
   "language": "python",
   "name": "python3"
  },
  "language_info": {
   "codemirror_mode": {
    "name": "ipython",
    "version": 3
   },
   "file_extension": ".py",
   "mimetype": "text/x-python",
   "name": "python",
   "nbconvert_exporter": "python",
   "pygments_lexer": "ipython3",
   "version": "3.10.13"
  }
 },
 "nbformat": 4,
 "nbformat_minor": 2
}
